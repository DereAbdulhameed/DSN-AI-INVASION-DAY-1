{
 "cells": [
  {
   "cell_type": "markdown",
   "metadata": {},
   "source": [
    "# DATA SCIENCE NIGERIA AI+ INVASION\n",
    "\n",
    "\n",
    "Hello there, welcome to this year's invasion. An opportunity for you to harness your skills and potentials and learn great thngs"
   ]
  },
  {
   "cell_type": "markdown",
   "metadata": {},
   "source": [
    "## INTRODUCTION\n",
    "\n",
    "Name of tutor: DERE, Abdulhameed, Abiola\n",
    "\n",
    "Name of Host: Baseerat Abdulsalam (MRS)\n",
    "\n",
    "Hosting School: Fountain University, Osogbo "
   ]
  },
  {
   "cell_type": "markdown",
   "metadata": {},
   "source": [
    "## OBJECTIVES\n",
    "\n",
    "\n",
    "1. Introduce the participants to core concepts of Machine Learning, both theory and code\n",
    "\n",
    "2. Hands-on practice of Machine learning coding during class sessions that participants can code on their own\n",
    "\n",
    "3. Participants can:\n",
    "\n",
    "    Perform simple exploratory data analysis and interpret the results\n",
    "\n",
    "    Do simple visualisations\n",
    "\n",
    "    Develop a simple machine learning model\n",
    "\n",
    "    Export predictions to a CSV \n",
    "\n",
    "4. Facilitate participants completing a competitive Kaggle hackathon at the end of the training.\n",
    "\n",
    " "
   ]
  },
  {
   "cell_type": "markdown",
   "metadata": {},
   "source": [
    "## INTRODUCTION TO THE KEY WORDS\n",
    "\n",
    "### 1. ARTIFICIAL INTELLIGENCE\n",
    "### 2. MACHINE LEARNING\n",
    "### 3. DATA SCIENCE"
   ]
  },
  {
   "cell_type": "markdown",
   "metadata": {},
   "source": [
    "##  MACHINE LEARNING"
   ]
  },
  {
   "cell_type": "markdown",
   "metadata": {},
   "source": [
    "Simply put, machine learning involves teaching a machine (by training it) and the machine uses the experience to predict. ML applications learn from experience (well data) like humans without direct programming. When exposed to new data, these applications learn, grow, change, and develop by themselves. In other words, with Machine Learning, computers find insightful information without being told where to look. Instead, they do this by leveraging algorithms that learn from data in an iterative process.\n",
    "\n",
    "You can read further at: https://www.simplilearn.com/tutorials/machine-learning-tutorial/what-is-machine-learning"
   ]
  },
  {
   "cell_type": "markdown",
   "metadata": {},
   "source": [
    "LET US EXAMINE THE EXAMPLE BELOW:\n",
    "    \n",
    "Suppose Ade always watches movies and he either LIKES or DISLIKES the movie.\n",
    "\n",
    "How does he do this? Based on the following characteristics:\n",
    "A. Genre: Whether it is romantic, historical, detective, adventure, horror, science fiction etc\n",
    "B. Plot: Whether it is an action, comedy, tragedy, war, urban\n",
    "C. Localisation: Whether it is an Indian, American, Yoruba, English movie"
   ]
  },
  {
   "cell_type": "markdown",
   "metadata": {},
   "source": [
    "### TYPES OF MACHINE LEARNING\n",
    "\n",
    "#### 1. Supervised Machine Learning\n",
    "#### 2. Unsupervised Machine Learning\n",
    "#### 3. Reinforcement Machine Learning"
   ]
  },
  {
   "cell_type": "markdown",
   "metadata": {},
   "source": [
    "## SUPERVISED MACHINE LEARNING\n",
    "\n",
    "This kind of learning works with labels and features. The target variable is already known and is trained with a set of training data known as LABELS; such that when the machine sees a certain label, it automatically connects it to a particular FEATURE.\n",
    "\n",
    "\n",
    "For example, suppose a machine learning model to predict type of car; it recognises each car with its weight/shape and is trained with such data, if a new car is brought with a new weight/shape, machine will be able to use previous experience to adequately predict the model of the new car.\n",
    "\n",
    "In summary, the predicted value, which is the dependent value is known."
   ]
  },
  {
   "cell_type": "markdown",
   "metadata": {},
   "source": [
    "### TYPES OF SUPERVISED MACHINE LEARNING MODELS\n",
    "\n",
    "There are 2 types of machine learning models; they include:\n",
    "##### 1. Classification: \n",
    "This occurs when the prediction is based on a non-continous variable (Class Labels) i.e. YES or NO, TRUE or FALSE e.g Netflix problem, Facebook videos \n",
    "\n",
    "\n",
    "##### 2. Regression\n",
    "This occurs when the prediction is based on a continuous variable e.g Stock Price, Housing Price etc"
   ]
  },
  {
   "cell_type": "markdown",
   "metadata": {},
   "source": [
    "## UNSUPERVISED MACHINE LEARNING\n",
    "\n",
    "This kind of learning works with a method called \"CLUSTERING\". The machine tries to find certain patterns in the training data and comes up with a target. In this kind of machine learning, the target is UNKNOWN and there is no labelled dataset available e.g Prediction of jersey number"
   ]
  },
  {
   "cell_type": "markdown",
   "metadata": {},
   "source": [
    "## REINFORCEMENT MACHINE LEARNING\n",
    "\n",
    "This aspect of machine learning is not usually often discussed. It works with a REWARD/PUNISHMENT MECHANISM. If a certain training data is passed into the machine and makes a False Negative, a negative signal is sent back to the machine and sunsequently predicts a TRUE POSITIVE."
   ]
  },
  {
   "cell_type": "markdown",
   "metadata": {},
   "source": [
    "### ACTIVITY 1.\n",
    "Partition youselves into groups and place each problem in the appropriate machine learning method\n",
    "\n",
    "1. Spam detection\n",
    "2. Credit Card Fraud\n",
    "3. Prediction of Illness\n",
    "4. House pricing\n",
    "5. Customer segmentation\n",
    "6. Prediction of age based on skin texture"
   ]
  },
  {
   "cell_type": "markdown",
   "metadata": {},
   "source": [
    "### MACHINE LEARNING MODEL\n",
    "\n",
    "INPUT--------------- MODEL ----------- OUTPUT"
   ]
  },
  {
   "cell_type": "markdown",
   "metadata": {},
   "source": [
    "### STEPS IN A MACHINE LEARNING MODEL\n",
    "\n",
    "A lot of people have identified and given several different steps when working on a machine learning problem and most times it is usually domain-specific. The following stepd include:\n",
    "1. Define the objective/goal\n",
    "2. Collect Data\n",
    "3. Process Data\n",
    "4. Select Algorithm to be used\n",
    "5. Train the model\n",
    "6. Evaluate the model\n",
    "7. Predict using the model\n",
    "8. Deploy the model"
   ]
  },
  {
   "cell_type": "markdown",
   "metadata": {},
   "source": [
    "### USE CASES OF MACHINE LEARNING \n",
    "\n",
    "Machine Learning has changed the lives of many and has made certain things become easier. Below is a list of some use cases of ML\n",
    "\n",
    "1. RetinaAI by Dr Stephen Odaibo who is my mentor\n",
    "2. Virtual Personal Assistant e.g Cortana, Google Personal Assistant\n",
    "3. Airports scheduling of flights\n",
    "4. Social Media Personalisation e.g Facebook, Google Ad, Twitter\n",
    "5. Radiology"
   ]
  },
  {
   "cell_type": "markdown",
   "metadata": {},
   "source": [
    "# WHAT IS DATA SCIENCE? WHO IS A DATA SCIENTIST?\n",
    "\n",
    "Data science is an interdisciplinary field that uses scientific methods, processes, algorithms and systems to extract knowledge and insights from structured and unstructured data, and apply knowledge and actionable insights from data across a broad range of application domains. Data science is related to data mining, machine learning and big data. - Wikipedia"
   ]
  },
  {
   "cell_type": "code",
   "execution_count": null,
   "metadata": {},
   "outputs": [],
   "source": []
  },
  {
   "cell_type": "markdown",
   "metadata": {},
   "source": [
    "### ADDITIONAL ACTIVITIES\n",
    "\n",
    "As a data scientist/ Machine Learning Engineer that is interested in taking up a career in Data Science. You need to have one or more of the following:\n",
    "1. A GitHub account\n",
    "2. A kaggle/Zindi account\n",
    "3. A portfolio/resume"
   ]
  },
  {
   "cell_type": "markdown",
   "metadata": {},
   "source": [
    "## SOME COMMON MYTHS\n",
    "\n",
    "#### MYTH 1: You need to be extremely proficient in maths before you begin ML.\n",
    "\n",
    "My opinion: No, a great level of understanding in maths is good because it aids in understanding the algorithms and how they work.\n",
    "\n",
    "#### MYTH 2: The more the data, the better the outcome.\n",
    "\n",
    "My opinion: Data that has a lot of noise in it will also give a bad outcome which a characteristic of more data, infact synthetic data can also be made even from a little amount of data\n",
    "\n",
    "#### MYTH 3: ML is very simple and straightforward\n",
    "\n",
    "My opinion: Yes, it is if the right steps are being followed and done properly, as well as accompanied with consisteny.\n",
    "\n",
    "#### MYTH 4: You can only be a good programmer by taking more courses on Coursera, Udemy and the likes.\n",
    "\n",
    "My opinion: You will learn more when you take a course but being a good programmer also entails experience, you only get experience by working on projects from time to time"
   ]
  }
 ],
 "metadata": {
  "kernelspec": {
   "display_name": "Python 3",
   "language": "python",
   "name": "python3"
  },
  "language_info": {
   "codemirror_mode": {
    "name": "ipython",
    "version": 3
   },
   "file_extension": ".py",
   "mimetype": "text/x-python",
   "name": "python",
   "nbconvert_exporter": "python",
   "pygments_lexer": "ipython3",
   "version": "3.8.5"
  }
 },
 "nbformat": 4,
 "nbformat_minor": 4
}
