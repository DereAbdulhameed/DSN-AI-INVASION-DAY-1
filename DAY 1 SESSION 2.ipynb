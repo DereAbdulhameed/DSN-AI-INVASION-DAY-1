{
 "cells": [
  {
   "cell_type": "markdown",
   "metadata": {},
   "source": [
    "# VARIABLES AND DATA TYPES IN PYTHON PROGRAMMING\n",
    "\n",
    "Each programming language has a set of terminologies as well datatypes that are common to them. To be proficient in python programming, the following are terminologies that needs to be known.\n",
    "\n",
    "1. Integers\n",
    "2. Float\n",
    "3. Strings\n",
    "4. Boolean\n",
    "5. Object"
   ]
  },
  {
   "cell_type": "markdown",
   "metadata": {},
   "source": [
    "## INTEGERS\n",
    "\n",
    "This refers to all numerical values that are devoid of fractions and decimals. Examples include: 1,2,3,45,67,87,100 etc. "
   ]
  },
  {
   "cell_type": "markdown",
   "metadata": {},
   "source": [
    "## FLOAT\n",
    "\n",
    "This refers to numbers with decimal value. Examples include 2.3, 4.5, 6.5, 4.5"
   ]
  },
  {
   "cell_type": "markdown",
   "metadata": {},
   "source": [
    "## STRINGS\n",
    "\n",
    "This refers to written words. A string is usually encoded with ''. A brief question here"
   ]
  },
  {
   "cell_type": "code",
   "execution_count": 1,
   "metadata": {},
   "outputs": [
    {
     "data": {
      "text/plain": [
       "('Ade', 'book', 'python', 'leaf', 'etc')"
      ]
     },
     "execution_count": 1,
     "metadata": {},
     "output_type": "execute_result"
    }
   ],
   "source": [
    "'Ade','book','python','leaf','etc'"
   ]
  },
  {
   "cell_type": "markdown",
   "metadata": {},
   "source": [
    "## BOOLEAN\n",
    "\n",
    "This refers to a True or False. It usually starts with a capital letter and is denoted with a colour green. Examples include True, False"
   ]
  },
  {
   "cell_type": "markdown",
   "metadata": {},
   "source": [
    "## ASSIGNING OF VARIABLES "
   ]
  },
  {
   "cell_type": "code",
   "execution_count": 3,
   "metadata": {},
   "outputs": [],
   "source": [
    "x = 'tree'"
   ]
  },
  {
   "cell_type": "code",
   "execution_count": 4,
   "metadata": {},
   "outputs": [],
   "source": [
    "y = 5.6"
   ]
  },
  {
   "cell_type": "code",
   "execution_count": 5,
   "metadata": {},
   "outputs": [],
   "source": [
    "z = 20"
   ]
  },
  {
   "cell_type": "code",
   "execution_count": 6,
   "metadata": {},
   "outputs": [],
   "source": [
    "a = True"
   ]
  },
  {
   "cell_type": "code",
   "execution_count": 11,
   "metadata": {},
   "outputs": [
    {
     "data": {
      "text/plain": [
       "bool"
      ]
     },
     "execution_count": 11,
     "metadata": {},
     "output_type": "execute_result"
    }
   ],
   "source": [
    "type(a)"
   ]
  },
  {
   "cell_type": "markdown",
   "metadata": {},
   "source": [
    "# BASIC ARITHMETICS IN PYTHON PROGRAMMING\n",
    "\n",
    "1. Addition\n",
    "2. Subtraction\n",
    "3. Division\n",
    "4. Multiplication"
   ]
  },
  {
   "cell_type": "markdown",
   "metadata": {},
   "source": [
    "## ADDITION\n"
   ]
  },
  {
   "cell_type": "code",
   "execution_count": 12,
   "metadata": {},
   "outputs": [
    {
     "data": {
      "text/plain": [
       "8"
      ]
     },
     "execution_count": 12,
     "metadata": {},
     "output_type": "execute_result"
    }
   ],
   "source": [
    "4 + 4"
   ]
  },
  {
   "cell_type": "markdown",
   "metadata": {},
   "source": [
    "## SUBTRACTION"
   ]
  },
  {
   "cell_type": "code",
   "execution_count": 13,
   "metadata": {},
   "outputs": [
    {
     "data": {
      "text/plain": [
       "82"
      ]
     },
     "execution_count": 13,
     "metadata": {},
     "output_type": "execute_result"
    }
   ],
   "source": [
    "87 - 5"
   ]
  },
  {
   "cell_type": "markdown",
   "metadata": {},
   "source": [
    "## DIVISION"
   ]
  },
  {
   "cell_type": "code",
   "execution_count": 14,
   "metadata": {},
   "outputs": [
    {
     "data": {
      "text/plain": [
       "20.0"
      ]
     },
     "execution_count": 14,
     "metadata": {},
     "output_type": "execute_result"
    }
   ],
   "source": [
    "80 / 4"
   ]
  },
  {
   "cell_type": "markdown",
   "metadata": {},
   "source": [
    "## MULTIPLICATION"
   ]
  },
  {
   "cell_type": "code",
   "execution_count": 15,
   "metadata": {},
   "outputs": [
    {
     "data": {
      "text/plain": [
       "120"
      ]
     },
     "execution_count": 15,
     "metadata": {},
     "output_type": "execute_result"
    }
   ],
   "source": [
    "40 * 3"
   ]
  },
  {
   "cell_type": "markdown",
   "metadata": {},
   "source": [
    "## BASIC PRINTING OF STRINGS"
   ]
  },
  {
   "cell_type": "markdown",
   "metadata": {},
   "source": [
    "1. \\n: When used, moves the element to another line\n",
    "2. \\t: when used, moves the element a tab forward"
   ]
  },
  {
   "cell_type": "code",
   "execution_count": 17,
   "metadata": {},
   "outputs": [
    {
     "name": "stdout",
     "output_type": "stream",
     "text": [
      "the boy brought a lion\n",
      "the boy brought \n",
      " a lion\n"
     ]
    }
   ],
   "source": [
    "print('the boy brought a lion')\n",
    "print('the boy brought \\n a lion')"
   ]
  },
  {
   "cell_type": "code",
   "execution_count": 18,
   "metadata": {},
   "outputs": [
    {
     "name": "stdout",
     "output_type": "stream",
     "text": [
      "the boy is intelligent\n",
      "the boy is \t intelligent\n"
     ]
    }
   ],
   "source": [
    "print('the boy is intelligent')\n",
    "print('the boy is \\t intelligent')"
   ]
  },
  {
   "cell_type": "markdown",
   "metadata": {},
   "source": [
    "## INDEXING\n",
    "\n",
    "This is a very important aspect that everyone who intends to be proficient in python programming must learn.\n",
    "Indexing makes use of a square bracket []\n",
    "There are 2 types of indexing\n",
    "1. Normal Indexing\n",
    "2. Reverse Indexing\n",
    "\n",
    "Consider the example below:"
   ]
  },
  {
   "cell_type": "markdown",
   "metadata": {},
   "source": [
    "z = ['orange', 1.67,'Yam', 1.31, '6.70']\n",
    "\n",
    "Using forward indexing\n",
    "\n",
    "'orange' = 0,\n",
    "\n",
    "1.67 = 1,\n",
    "\n",
    "'Yam' = 2,\n",
    "\n",
    "1.31 = 3,\n",
    "\n",
    "'6.70' = 4"
   ]
  },
  {
   "cell_type": "code",
   "execution_count": 22,
   "metadata": {},
   "outputs": [],
   "source": [
    "z = ['orange', 1.67,'Yam', 1.31, '6.70']"
   ]
  },
  {
   "cell_type": "markdown",
   "metadata": {},
   "source": [
    "## SLICING [start: stop: step:]\n",
    "\n",
    "This is a method of extracting a certain part of a element without necessarily taking into consideration the entire element.\n",
    "It has a convention\n",
    "\n",
    "start index corresponds to where the slice will begin\n",
    "\n",
    "stop index corresponds to where the slice will stop excluding the indexed character\n",
    "\n",
    "step index indicates how many characters you skip as you graduate further"
   ]
  },
  {
   "cell_type": "code",
   "execution_count": 27,
   "metadata": {},
   "outputs": [
    {
     "data": {
      "text/plain": [
       "['orange', 1.67, 'Yam']"
      ]
     },
     "execution_count": 27,
     "metadata": {},
     "output_type": "execute_result"
    }
   ],
   "source": [
    "z[0:3]"
   ]
  },
  {
   "cell_type": "code",
   "execution_count": 28,
   "metadata": {},
   "outputs": [],
   "source": [
    "train = [1,2,3,4,5,6,7,8,9,0,12,13,13,14,15,13,14]"
   ]
  },
  {
   "cell_type": "code",
   "execution_count": 31,
   "metadata": {},
   "outputs": [
    {
     "data": {
      "text/plain": [
       "[1, 3, 5, 7, 9, 12, 13, 15]"
      ]
     },
     "execution_count": 31,
     "metadata": {},
     "output_type": "execute_result"
    }
   ],
   "source": [
    "train[0:16:2]"
   ]
  },
  {
   "cell_type": "markdown",
   "metadata": {},
   "source": [
    "### LET US PRACTISE\n"
   ]
  },
  {
   "cell_type": "markdown",
   "metadata": {},
   "source": [
    "test = 'this is a very long piece of text and we are going to use it for practise'\n",
    "\n",
    "slice out 'ext and we are going'"
   ]
  },
  {
   "cell_type": "code",
   "execution_count": 32,
   "metadata": {},
   "outputs": [],
   "source": [
    "test = 'this is a very long piece of text and we are going to use it for practise'"
   ]
  },
  {
   "cell_type": "markdown",
   "metadata": {},
   "source": [
    "## BASIC STRINGS METHOD\n",
    "\n",
    "Methods are actions you can call of with a string element using the format\n",
    "\n",
    "string.method_name()"
   ]
  },
  {
   "cell_type": "markdown",
   "metadata": {},
   "source": [
    "Some common string methods include\n",
    "\n",
    "upper - makes all the str elements upper case\n",
    "\n",
    "lower - makes all the str elements lower case\n",
    "\n",
    "capitalise- makes the first word in the element upper case\n",
    "\n",
    "split- separates the elements in the str\n",
    "\n",
    "format - it is used to import certain values within the str"
   ]
  },
  {
   "cell_type": "markdown",
   "metadata": {},
   "source": [
    "### FORMAT METHOD\n",
    "\n",
    "This is used to perform string intercollation, essentially inserting a variable when printing a string"
   ]
  },
  {
   "cell_type": "code",
   "execution_count": 4,
   "metadata": {},
   "outputs": [],
   "source": [
    "username = 'abdulhameed'"
   ]
  },
  {
   "cell_type": "code",
   "execution_count": 5,
   "metadata": {},
   "outputs": [],
   "source": [
    "password = 123456"
   ]
  },
  {
   "cell_type": "code",
   "execution_count": 6,
   "metadata": {},
   "outputs": [
    {
     "name": "stdout",
     "output_type": "stream",
     "text": [
      "my name is abdulhameed and my password is 123456\n"
     ]
    }
   ],
   "source": [
    "# First method\n",
    "print('my name is {} and my password is {}'.format(username, password))"
   ]
  },
  {
   "cell_type": "code",
   "execution_count": 9,
   "metadata": {},
   "outputs": [
    {
     "name": "stdout",
     "output_type": "stream",
     "text": [
      "my name is abdulhameed and my password is 123456\n"
     ]
    }
   ],
   "source": [
    "# Second method (using the f string)\n",
    "print(f'my name is {username} and my password is {password}')"
   ]
  },
  {
   "cell_type": "markdown",
   "metadata": {},
   "source": [
    "                                    Copywright, 2021"
   ]
  }
 ],
 "metadata": {
  "kernelspec": {
   "display_name": "Python 3",
   "language": "python",
   "name": "python3"
  },
  "language_info": {
   "codemirror_mode": {
    "name": "ipython",
    "version": 3
   },
   "file_extension": ".py",
   "mimetype": "text/x-python",
   "name": "python",
   "nbconvert_exporter": "python",
   "pygments_lexer": "ipython3",
   "version": "3.8.5"
  }
 },
 "nbformat": 4,
 "nbformat_minor": 4
}
